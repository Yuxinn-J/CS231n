{
 "cells": [
  {
   "cell_type": "markdown",
   "metadata": {},
   "source": [
    "# Prepare Data"
   ]
  },
  {
   "cell_type": "code",
   "execution_count": 1,
   "metadata": {},
   "outputs": [],
   "source": [
    "from torch.utils.data import Dataset, DataLoader\n",
    "import cv2\n",
    "import os\n",
    "\n",
    "class FaceDataset(Dataset):\n",
    "    def __init__(self, fnames, transform):\n",
    "        self.transform = transform\n",
    "        self.fnames = fnames\n",
    "        self.num_samples = len(self.fnames)\n",
    "        \n",
    "    def __getitem__(self,idx):\n",
    "        fname = self.fnames[idx]\n",
    "        img = cv2.imread(fname)\n",
    "        img = self.BGR2RGB(img) #because \"torchvision.utils.save_image\" use RGB\n",
    "        img = self.transform(img)\n",
    "        return img\n",
    "\n",
    "    def __len__(self):\n",
    "        return self.num_samples\n",
    "\n",
    "    def BGR2RGB(self,img):\n",
    "        return cv2.cvtColor(img,cv2.COLOR_BGR2RGB)\n",
    "\n",
    "import glob\n",
    "import torchvision.transforms as transforms\n",
    "\n",
    "def get_dataset(root):\n",
    "    fnames = glob.glob(os.path.join(root, '*'))\n",
    "    # resize the image to (64, 64)\n",
    "    # linearly map [0, 1] to [-1, 1]\n",
    "    transform = transforms.Compose(\n",
    "        [transforms.ToPILImage(),\n",
    "         transforms.Resize((64, 64)),\n",
    "         transforms.ToTensor(),\n",
    "         transforms.Normalize(mean=[0.5] * 3, std=[0.5] * 3) ] )\n",
    "    dataset = FaceDataset(fnames, transform)\n",
    "    return dataset"
   ]
  },
  {
   "cell_type": "markdown",
   "metadata": {},
   "source": [
    "## Useful functions"
   ]
  },
  {
   "cell_type": "code",
   "execution_count": 2,
   "metadata": {},
   "outputs": [],
   "source": [
    "import random\n",
    "import torch\n",
    "import numpy as np\n",
    "\n",
    "def same_seeds(seed):\n",
    "    torch.manual_seed(seed)\n",
    "    if torch.cuda.is_available():\n",
    "        torch.cuda.manual_seed(seed)\n",
    "        torch.cuda.manual_seed_all(seed)  # if you are using multi-GPU.\n",
    "    np.random.seed(seed)  # Numpy module.\n",
    "    random.seed(seed)  # Python random module.\n",
    "    torch.backends.cudnn.benchmark = False\n",
    "    torch.backends.cudnn.deterministic = True"
   ]
  },
  {
   "cell_type": "markdown",
   "metadata": {},
   "source": [
    "# Build the Model: DCGAN\n",
    "\n",
    "![DCGAN](image/dcgan_overall.png)"
   ]
  },
  {
   "cell_type": "code",
   "execution_count": 3,
   "metadata": {},
   "outputs": [],
   "source": [
    "import torch.nn as nn\n",
    "import torch.nn.functional as F\n",
    "\n",
    "def weights_init(m):\n",
    "    classname = m.__class__.__name__\n",
    "    if classname.find('Conv') != -1:\n",
    "        m.weight.data.normal_(0.0, 0.02)\n",
    "    elif classname.find('BatchNorm') != -1:\n",
    "        m.weight.data.normal_(1.0, 0.02)\n",
    "        m.bias.data.fill_(0)"
   ]
  },
  {
   "cell_type": "code",
   "execution_count": 4,
   "metadata": {},
   "outputs": [],
   "source": [
    "class Generator(nn.Module):\n",
    "    \"\"\"\n",
    "    input (N, in_dim)\n",
    "    output (N, 3, 64, 64)\n",
    "    \"\"\"\n",
    "    \n",
    "    def __init__(self, in_dim, dim=64):\n",
    "        super(Generator, self).__init__()\n",
    "        \n",
    "        def dconv_bn_relu(in_dim, out_dim):\n",
    "            return nn.Sequential(\n",
    "                nn.ConvTranspose2d(in_dim, out_dim, kernel_size=5, stride=2,\n",
    "                                   padding=2, output_padding=1, bias=False),\n",
    "                nn.BatchNorm2d(out_dim),\n",
    "                nn.ReLU()\n",
    "            )\n",
    "        \n",
    "        self.l1 = nn.Sequential(\n",
    "            nn.Linear(in_dim, dim * 8 * 4 * 4, bias=False),\n",
    "            nn.BatchNorm1d(dim * 8 * 4 * 4),\n",
    "            nn.ReLU()\n",
    "        )\n",
    "        \n",
    "        self.l2_5 = nn.Sequential(\n",
    "            dconv_bn_relu(dim * 8, dim * 4),\n",
    "            dconv_bn_relu(dim * 4, dim * 2),\n",
    "            dconv_bn_relu(dim * 2, dim),\n",
    "            nn.ConvTranspose2d(dim, 3, 5, 2, padding=2, output_padding=1),\n",
    "            nn.Tanh()\n",
    "        )\n",
    "        \n",
    "        self.apply(weights_init)\n",
    "        \n",
    "    def forward(self, x):\n",
    "        y = self.l1(x)\n",
    "        y = y.view(y.size(0), -1, 4, 4)\n",
    "        y = self.l2_5(y)\n",
    "        return y"
   ]
  },
  {
   "cell_type": "code",
   "execution_count": 5,
   "metadata": {},
   "outputs": [],
   "source": [
    "class Discriminator(nn.Module):\n",
    "    \"\"\"\n",
    "    input (N, 3, 64, 64)\n",
    "    output (N, )\n",
    "    \"\"\"\n",
    "    \n",
    "    def __init__(self, in_dim, dim=64):\n",
    "        super(Discriminator, self).__init__()\n",
    "        \n",
    "        def conv_bn_lrelu(in_dim, out_dim):\n",
    "            return nn.Sequential(\n",
    "                nn.Conv2d(in_dim, out_dim, kernel_size=5,\n",
    "                          stride=2, padding=2),\n",
    "                nn.BatchNorm2d(out_dim),\n",
    "                nn.LeakyReLU(0.2)\n",
    "            )\n",
    "        \n",
    "        self.ls = nn.Sequential(\n",
    "            nn.Conv2d(in_dim, dim, 5, 2, 2), nn.LeakyReLU(0.2),\n",
    "            conv_bn_lrelu(dim, dim * 2),\n",
    "            conv_bn_lrelu(dim * 2, dim * 4),\n",
    "            conv_bn_lrelu(dim * 4, dim * 8),\n",
    "            nn.Conv2d(dim * 8, 1, 4),\n",
    "            nn.Sigmoid()\n",
    "        )\n",
    "        \n",
    "        self.apply(weights_init)\n",
    "        \n",
    "    def forward(self, x):\n",
    "        y = self.ls(x)\n",
    "        y = y.view(-1)\n",
    "        return y"
   ]
  },
  {
   "cell_type": "markdown",
   "metadata": {},
   "source": [
    "# Train the Model"
   ]
  },
  {
   "cell_type": "code",
   "execution_count": 7,
   "metadata": {},
   "outputs": [],
   "source": [
    "import torch\n",
    "from torch import optim\n",
    "from torch.autograd import Variable\n",
    "import torchvision\n",
    "\n",
    "workspace_dir = '.'\n",
    "\n",
    "# hyperparameters \n",
    "batch_size = 64\n",
    "z_dim = 100\n",
    "lr = 1e-4\n",
    "n_epoch = 10\n",
    "save_dir = os.path.join(workspace_dir, 'logs')\n",
    "os.makedirs(save_dir, exist_ok=True)\n",
    "\n",
    "# model\n",
    "G = Generator(in_dim=z_dim)\n",
    "D = Discriminator(3)\n",
    "G.train()\n",
    "D.train()\n",
    "\n",
    "# loss criterion\n",
    "criterion = nn.BCELoss()\n",
    "\n",
    "# optimizer\n",
    "opt_D = torch.optim.Adam(D.parameters(), lr=lr, betas=(0.5, 0.999))\n",
    "opt_G = torch.optim.Adam(G.parameters(), lr=lr, betas=(0.5, 0.999))\n",
    "\n",
    "\n",
    "same_seeds(0)\n",
    "# dataloader\n",
    "dataset = get_dataset(os.path.join(workspace_dir, 'faces'))\n",
    "dataloader = DataLoader(dataset, batch_size=batch_size, shuffle=True, num_workers=4)"
   ]
  },
  {
   "cell_type": "code",
   "execution_count": 10,
   "metadata": {},
   "outputs": [
    {
     "name": "stderr",
     "output_type": "stream",
     "text": [
      "Clipping input data to the valid range for imshow with RGB data ([0..1] for floats or [0..255] for integers).\n"
     ]
    },
    {
     "data": {
      "text/plain": [
       "<matplotlib.image.AxesImage at 0x1e5dc169760>"
      ]
     },
     "execution_count": 10,
     "metadata": {},
     "output_type": "execute_result"
    },
    {
     "data": {
      "image/png": "[encoded data removed]",
      "text/plain": [
       "<Figure size 432x288 with 1 Axes>"
      ]
     },
     "metadata": {
      "needs_background": "light"
     },
     "output_type": "display_data"
    }
   ],
   "source": [
    "import matplotlib.pyplot as plt\n",
    "plt.imshow(dataset[100].numpy().transpose(1,2,0))"
   ]
  },
  {
   "cell_type": "code",
   "execution_count": null,
   "metadata": {},
   "outputs": [],
   "source": [
    "# for logging\n",
    "z_sample = Variable(torch.randn(100, z_dim))\n",
    "\n",
    "for e, epoch in enumerate(range(n_epoch)):\n",
    "    for i, data in enumerate(dataloader):\n",
    "        imgs = data\n",
    "        imgs = imgs\n",
    "\n",
    "        bs = imgs.size(0)\n",
    "\n",
    "        \"\"\" Train D \"\"\"\n",
    "        z = Variable(torch.randn(bs, z_dim))\n",
    "        r_imgs = Variable(imgs)\n",
    "        f_imgs = G(z)\n",
    "\n",
    "        # label        \n",
    "        r_label = torch.ones((bs))\n",
    "        f_label = torch.zeros((bs))\n",
    "\n",
    "        # dis\n",
    "        r_logit = D(r_imgs.detach())\n",
    "        f_logit = D(f_imgs.detach())\n",
    "        \n",
    "        # compute loss\n",
    "        r_loss = criterion(r_logit, r_label)\n",
    "        f_loss = criterion(f_logit, f_label)\n",
    "        loss_D = (r_loss + f_loss) / 2\n",
    "\n",
    "        # update model\n",
    "        D.zero_grad()\n",
    "        loss_D.backward()\n",
    "        opt_D.step()\n",
    "\n",
    "        \"\"\" Train G \"\"\"\n",
    "        # leaf\n",
    "        z = Variable(torch.randn(bs, z_dim))\n",
    "        f_imgs = G(z)\n",
    "\n",
    "        # dis\n",
    "        f_logit = D(f_imgs)\n",
    "        \n",
    "        # compute loss\n",
    "        loss_G = criterion(f_logit, r_label)\n",
    "\n",
    "        # update model\n",
    "        G.zero_grad()\n",
    "        loss_G.backward()\n",
    "        opt_G.step()\n",
    "\n",
    "        # log\n",
    "        print(f'\\rEpoch [{epoch+1}/{n_epoch}] {i+1}/{len(dataloader)} Loss_D: {loss_D.item():.4f} Loss_G: {loss_G.item():.4f}', end='')\n",
    "    \n",
    "    G.eval()\n",
    "    f_imgs_sample = (G(z_sample).data + 1) / 2.0\n",
    "    filename = os.path.join(save_dir, f'Epoch_{epoch+1:03d}.jpg')\n",
    "    torchvision.utils.save_image(f_imgs_sample, filename, nrow=10)\n",
    "    print(f' | Save some samples to {filename}.')\n",
    "    # show generated image\n",
    "    grid_img = torchvision.utils.make_grid(f_imgs_sample.cpu(), nrow=10)\n",
    "    plt.figure(figsize=(10,10))\n",
    "    plt.imshow(grid_img.permute(1, 2, 0))\n",
    "    plt.show()\n",
    "    G.train()\n",
    "    if (e+1) % 5 == 0:\n",
    "        torch.save(G.state_dict(), os.path.join(workspace_dir, f'dcgan_g.pth'))\n",
    "        torch.save(D.state_dict(), os.path.join(workspace_dir, f'dcgan_d.pth'))\n",
    "\n"
   ]
  },
  {
   "cell_type": "markdown",
   "metadata": {},
   "source": [
    "# Inference"
   ]
  },
  {
   "cell_type": "code",
   "execution_count": null,
   "metadata": {},
   "outputs": [],
   "source": [
    "import torch\n",
    "\n",
    "# load pretrained model\n",
    "G = Generator(z_dim)\n",
    "G.load_state_dict(torch.load(os.path.join(workspace_dir, 'dcgan_g.pth')))\n",
    "G.eval()\n",
    "G"
   ]
  },
  {
   "cell_type": "code",
   "execution_count": null,
   "metadata": {},
   "outputs": [],
   "source": [
    "# generate images and save the result\n",
    "\n",
    "n_output = 20\n",
    "z_sample = Variable(torch.randn(n_output, z_dim))\n",
    "imgs_sample = (G(z_sample).data + 1) / 2.0\n",
    "save_dir = os.path.join(workspace_dir, 'logs')\n",
    "filename = os.path.join(save_dir, f'result.jpg')\n",
    "torchvision.utils.save_image(imgs_sample, filename, nrow=10)\n",
    "\n",
    "# show image\n",
    "grid_img = torchvision.utils.make_grid(imgs_sample.cpu(), nrow=10)\n",
    "plt.figure(figsize=(10,10))\n",
    "plt.imshow(grid_img.permute(1, 2, 0))\n",
    "plt.show()"
   ]
  }
 ],
 "metadata": {
  "kernelspec": {
   "display_name": "Python 3",
   "language": "python",
   "name": "python3"
  },
  "language_info": {
   "codemirror_mode": {
    "name": "ipython",
    "version": 3
   },
   "file_extension": ".py",
   "mimetype": "text/x-python",
   "name": "python",
   "nbconvert_exporter": "python",
   "pygments_lexer": "ipython3",
   "version": "3.8.5"
  }
 },
 "nbformat": 4,
 "nbformat_minor": 4
}
